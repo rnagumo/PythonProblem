{
 "cells": [
  {
   "cell_type": "markdown",
   "metadata": {},
   "source": [
    "# Object-Oriented Program\n",
    "\n",
    "http://interactivepython.org/runestone/static/pythonds/Introduction/ObjectOrientedProgramminginPythonDefiningClasses.html#inheritance-logic-gates-and-circuits"
   ]
  },
  {
   "cell_type": "markdown",
   "metadata": {},
   "source": [
    "# Gates"
   ]
  },
  {
   "cell_type": "markdown",
   "metadata": {},
   "source": [
    "#### 1st abstract base class"
   ]
  },
  {
   "cell_type": "code",
   "execution_count": 1,
   "metadata": {},
   "outputs": [],
   "source": [
    "from abc import ABCMeta, abstractclassmethod"
   ]
  },
  {
   "cell_type": "code",
   "execution_count": 2,
   "metadata": {},
   "outputs": [],
   "source": [
    "class LogicGate(metaclass=ABCMeta):\n",
    "\n",
    "    def __init__(self, label):\n",
    "        self.label = label\n",
    "        self.output = None\n",
    "\n",
    "    def get_label(self):\n",
    "        return self.label\n",
    "\n",
    "    def get_output(self):\n",
    "        self.output = self.perform_gatelogic()\n",
    "        return self.output\n",
    "    \n",
    "    @abstractclassmethod\n",
    "    def perform_gatelogic(self):\n",
    "        raise NotImplementedError('Implement gate logic')"
   ]
  },
  {
   "cell_type": "markdown",
   "metadata": {},
   "source": [
    "#### 2nd base class"
   ]
  },
  {
   "cell_type": "code",
   "execution_count": 21,
   "metadata": {},
   "outputs": [],
   "source": [
    "class BinaryGate(LogicGate):\n",
    "\n",
    "    def __init__(self, label):\n",
    "        super().__init__(label)\n",
    "\n",
    "        self.pin_a = None\n",
    "        self.pin_b = None\n",
    "\n",
    "    def get_pin_a(self):\n",
    "        if self.pin_a is None:\n",
    "            return int(input(\"Enter Pin A input for gate \"+ self.get_label()+\"-->\"))\n",
    "        else:\n",
    "            return self.pin_a.get_from().get_output()\n",
    "\n",
    "    def get_pin_b(self):\n",
    "        if self.pin_b is None:\n",
    "            return int(input(\"Enter Pin B input for gate \"+ self.get_label()+\"-->\"))\n",
    "        else:\n",
    "            return self.pin_b.get_from().get_output()\n",
    "    \n",
    "    def set_nextpin(self, source):\n",
    "        if self.pin_a is None:\n",
    "            self.pin_a = source\n",
    "        elif self.pin_b is None:\n",
    "            self.pin_b = source\n",
    "        else:\n",
    "            raise RuntimeError('Error: No Empty Pins')"
   ]
  },
  {
   "cell_type": "code",
   "execution_count": 22,
   "metadata": {},
   "outputs": [],
   "source": [
    "class UnaryGate(LogicGate):\n",
    "\n",
    "    def __init__(self, label):\n",
    "        super().__init__(label)\n",
    "\n",
    "        self.pin = None\n",
    "\n",
    "    def get_pin(self):\n",
    "        if self.pin is None:\n",
    "            return int(input(\"Enter Pin input for gate \"+ self.get_label()+\"-->\"))\n",
    "        else:\n",
    "            return self.pin.get_from().get_output()\n",
    "\n",
    "    def set_nextpin(self, source):\n",
    "        if self.pin is None:\n",
    "            self.pin = source\n",
    "        else:\n",
    "            raise RuntimeError('Error: No Empty Pins')"
   ]
  },
  {
   "cell_type": "markdown",
   "metadata": {},
   "source": [
    "#### Gates"
   ]
  },
  {
   "cell_type": "code",
   "execution_count": 25,
   "metadata": {},
   "outputs": [],
   "source": [
    "class AndGate(BinaryGate):\n",
    "\n",
    "    def __init__(self, label):\n",
    "        super().__init__(label)\n",
    "\n",
    "    def perform_gatelogic(self):\n",
    "\n",
    "        a = self.get_pin_a()\n",
    "        b = self.get_pin_b()\n",
    "        if a == 1 and b == 1:\n",
    "            return 1\n",
    "        else:\n",
    "            return 0"
   ]
  },
  {
   "cell_type": "code",
   "execution_count": 26,
   "metadata": {},
   "outputs": [],
   "source": [
    "class OrGate(BinaryGate):\n",
    "\n",
    "    def __init__(self, label):\n",
    "        super().__init__(label)\n",
    "\n",
    "    def perform_gatelogic(self):\n",
    "\n",
    "        a = self.get_pin_a()\n",
    "        b = self.get_pin_a()\n",
    "        if a == 1 or b == 1:\n",
    "            return 1\n",
    "        else:\n",
    "            return 0"
   ]
  },
  {
   "cell_type": "code",
   "execution_count": 27,
   "metadata": {},
   "outputs": [],
   "source": [
    "class NotGate(UnaryGate):\n",
    "\n",
    "    def __init__(self, label):\n",
    "        super().__init__(label)\n",
    "        self.pin = None\n",
    "\n",
    "    def perform_gatelogic(self):\n",
    "        if self.get_pin():\n",
    "            return 0\n",
    "        else:\n",
    "            return 1"
   ]
  },
  {
   "cell_type": "code",
   "execution_count": 29,
   "metadata": {},
   "outputs": [
    {
     "name": "stdin",
     "output_type": "stream",
     "text": [
      "Enter Pin A input for gate G1--> 1\n",
      "Enter Pin B input for gate G1--> 0\n"
     ]
    },
    {
     "data": {
      "text/plain": [
       "0"
      ]
     },
     "execution_count": 29,
     "metadata": {},
     "output_type": "execute_result"
    }
   ],
   "source": [
    "g1 = AndGate('G1')\n",
    "g1.get_output()"
   ]
  },
  {
   "cell_type": "code",
   "execution_count": 32,
   "metadata": {},
   "outputs": [
    {
     "name": "stdin",
     "output_type": "stream",
     "text": [
      "Enter Pin A input for gate G2--> 0\n",
      "Enter Pin A input for gate G2--> 0\n"
     ]
    },
    {
     "data": {
      "text/plain": [
       "0"
      ]
     },
     "execution_count": 32,
     "metadata": {},
     "output_type": "execute_result"
    }
   ],
   "source": [
    "g2 = OrGate('G2')\n",
    "g2.get_output()"
   ]
  },
  {
   "cell_type": "code",
   "execution_count": 34,
   "metadata": {},
   "outputs": [
    {
     "name": "stdin",
     "output_type": "stream",
     "text": [
      "Enter Pin input for gate G3--> 0\n"
     ]
    },
    {
     "data": {
      "text/plain": [
       "1"
      ]
     },
     "execution_count": 34,
     "metadata": {},
     "output_type": "execute_result"
    }
   ],
   "source": [
    "g3 = NotGate('G3')\n",
    "g3.get_output()"
   ]
  },
  {
   "cell_type": "markdown",
   "metadata": {},
   "source": [
    "# Connector"
   ]
  },
  {
   "cell_type": "code",
   "execution_count": 35,
   "metadata": {},
   "outputs": [],
   "source": [
    "class Connector:\n",
    "    def __init__(self, fgate, tgate):\n",
    "        self.fromgate = fgate\n",
    "        self.togate = tgate\n",
    "        \n",
    "        tgate.set_nextpin(self)\n",
    "    \n",
    "    def get_from(self):\n",
    "        return self.fromgate\n",
    "\n",
    "    def get_to(self):\n",
    "        return self.togate"
   ]
  },
  {
   "cell_type": "code",
   "execution_count": 36,
   "metadata": {},
   "outputs": [],
   "source": [
    "g1 = AndGate(\"G1\")\n",
    "g2 = AndGate(\"G2\")\n",
    "g3 = OrGate(\"G3\")\n",
    "g4 = NotGate(\"G4\")\n",
    "c1 = Connector(g1,g3)\n",
    "c2 = Connector(g2,g3)\n",
    "c3 = Connector(g3,g4)"
   ]
  },
  {
   "cell_type": "code",
   "execution_count": 38,
   "metadata": {},
   "outputs": [
    {
     "name": "stdin",
     "output_type": "stream",
     "text": [
      "Enter Pin A input for gate G1--> 0\n",
      "Enter Pin B input for gate G1--> 1\n",
      "Enter Pin A input for gate G1--> 1\n",
      "Enter Pin B input for gate G1--> 1\n"
     ]
    },
    {
     "data": {
      "text/plain": [
       "0"
      ]
     },
     "execution_count": 38,
     "metadata": {},
     "output_type": "execute_result"
    }
   ],
   "source": [
    "g4.get_output()"
   ]
  }
 ],
 "metadata": {
  "kernelspec": {
   "display_name": "Python 3",
   "language": "python",
   "name": "python3"
  },
  "language_info": {
   "codemirror_mode": {
    "name": "ipython",
    "version": 3
   },
   "file_extension": ".py",
   "mimetype": "text/x-python",
   "name": "python",
   "nbconvert_exporter": "python",
   "pygments_lexer": "ipython3",
   "version": "3.7.3"
  }
 },
 "nbformat": 4,
 "nbformat_minor": 2
}
