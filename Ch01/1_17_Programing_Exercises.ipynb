{
 "cells": [
  {
   "cell_type": "markdown",
   "metadata": {},
   "source": [
    "# Exercises\n",
    "\n",
    "http://interactivepython.org/runestone/static/pythonds/Introduction/ProgrammingExercises.html"
   ]
  },
  {
   "cell_type": "markdown",
   "metadata": {},
   "source": [
    "Below is my answer."
   ]
  },
  {
   "cell_type": "code",
   "execution_count": 1,
   "metadata": {},
   "outputs": [],
   "source": [
    "class Fraction:\n",
    "    def __init__(self, top, bottom):\n",
    "        if type(top) != int or type(bottom) != int:\n",
    "            raise ValueError('Number should be integer')\n",
    "        \n",
    "        common = self.gcd(top, bottom)\n",
    "        self._num = top // common\n",
    "        self._den = bottom // common\n",
    "        \n",
    "    def __str__(self):\n",
    "        return f'{self._num} / {self._den}'\n",
    "    \n",
    "    def __repr__(self):\n",
    "        return f'Repr: {self._num} / {self._den}'\n",
    "    \n",
    "    def __add__(self, other):\n",
    "        new_num = self._num * other.den + self._den * other.num\n",
    "        new_den = self._den * other.den\n",
    "        return Fraction(new_num, new_den)\n",
    "        \n",
    "    def __sub__(self, other):\n",
    "        new_num = self._num * other.den - self._den * other.num\n",
    "        new_den = self._den * other.den\n",
    "        return Fraction(new_num, new_den)\n",
    "\n",
    "    def __mul__(self, other):\n",
    "        new_num = self._num * other.num\n",
    "        new_den = self._den * other.den\n",
    "        return Fraction(new_num, new_den)\n",
    "    \n",
    "    def __truediv__(self, other):\n",
    "        new_num = self._num * other.den\n",
    "        new_den = self._den * other.num\n",
    "        return Fraction(new_num, new_den)\n",
    "        \n",
    "    def __eq__(self, other):\n",
    "        return self._num * other.den == self._den * other.num\n",
    "    \n",
    "    def __ne__(self, other):\n",
    "        return self._num * other.den != self._den * other.num\n",
    "    \n",
    "    def __gt__(self, other):\n",
    "        return self._num * other.den - self._den * other.num > 0\n",
    "    \n",
    "    def __ge__(self, other):\n",
    "        return self._num * other.den - self._den * other.num >= 0\n",
    "    \n",
    "    def __lt__(self, other):\n",
    "        return self._num * other.den - self._den * other.num < 0\n",
    "    \n",
    "    def __le__(self, other):\n",
    "        return self._num * other.den - self._den * other.num <= 0\n",
    "    \n",
    "    def __radd__(self, other):\n",
    "        new_num = self._num * other.den + self._den * other.num\n",
    "        new_den = self._den * other.den\n",
    "        return Fraction(new_num, new_den)\n",
    "    \n",
    "    @property\n",
    "    def num(self):\n",
    "        return self._num\n",
    "    \n",
    "    @num.setter\n",
    "    def num(self, val):\n",
    "        self._num = val\n",
    "        \n",
    "    @property\n",
    "    def den(self):\n",
    "        return self._den\n",
    "    \n",
    "    @den.setter\n",
    "    def den(self, val):\n",
    "        self._den = val\n",
    "    \n",
    "    @staticmethod\n",
    "    def gcd(m, n):\n",
    "        while m % n != 0:\n",
    "            m, n = n, m % n\n",
    "        return n"
   ]
  },
  {
   "cell_type": "code",
   "execution_count": 8,
   "metadata": {},
   "outputs": [
    {
     "name": "stdout",
     "output_type": "stream",
     "text": [
      "3 / 4\n"
     ]
    }
   ],
   "source": [
    "f = Fraction(3, 4)\n",
    "print(f)"
   ]
  },
  {
   "cell_type": "code",
   "execution_count": 9,
   "metadata": {},
   "outputs": [
    {
     "name": "stdout",
     "output_type": "stream",
     "text": [
      "1 / 2\n"
     ]
    }
   ],
   "source": [
    "f = Fraction(3, 6)\n",
    "print(f)"
   ]
  },
  {
   "cell_type": "code",
   "execution_count": 31,
   "metadata": {},
   "outputs": [
    {
     "name": "stdout",
     "output_type": "stream",
     "text": [
      "3 / 4\n",
      "-1 / 4\n",
      "1 / 8\n",
      "1 / 2\n"
     ]
    }
   ],
   "source": [
    "f1 = Fraction(1, 4)\n",
    "f2 = Fraction(1, 2)\n",
    "\n",
    "print(f1 + f2)\n",
    "print(f1 - f2)\n",
    "print(f1 * f2)\n",
    "print(f1 / f2)"
   ]
  },
  {
   "cell_type": "code",
   "execution_count": 35,
   "metadata": {},
   "outputs": [
    {
     "name": "stdout",
     "output_type": "stream",
     "text": [
      "False\n",
      "True\n",
      "False\n",
      "False\n",
      "True\n",
      "True\n"
     ]
    }
   ],
   "source": [
    "f1 = Fraction(1, 4)\n",
    "f2 = Fraction(1, 2)\n",
    "\n",
    "print(f1 == f2)\n",
    "print(f1 != f2)\n",
    "print(f1 > f2)\n",
    "print(f1 >= f2)\n",
    "print(f1 < f2)\n",
    "print(f1 <= f2)"
   ]
  },
  {
   "cell_type": "code",
   "execution_count": 39,
   "metadata": {},
   "outputs": [
    {
     "ename": "ValueError",
     "evalue": "Number should be integer",
     "output_type": "error",
     "traceback": [
      "\u001b[0;31m---------------------------------------------------------------------------\u001b[0m",
      "\u001b[0;31mValueError\u001b[0m                                Traceback (most recent call last)",
      "\u001b[0;32m<ipython-input-39-2e611aed6730>\u001b[0m in \u001b[0;36m<module>\u001b[0;34m\u001b[0m\n\u001b[0;32m----> 1\u001b[0;31m \u001b[0mf1\u001b[0m \u001b[0;34m=\u001b[0m \u001b[0mFraction\u001b[0m\u001b[0;34m(\u001b[0m\u001b[0;36m1\u001b[0m\u001b[0;34m,\u001b[0m \u001b[0;36m4.\u001b[0m\u001b[0;34m)\u001b[0m\u001b[0;34m\u001b[0m\u001b[0;34m\u001b[0m\u001b[0m\n\u001b[0m",
      "\u001b[0;32m<ipython-input-38-3b0bbea9023b>\u001b[0m in \u001b[0;36m__init__\u001b[0;34m(self, top, bottom)\u001b[0m\n\u001b[1;32m      2\u001b[0m     \u001b[0;32mdef\u001b[0m \u001b[0m__init__\u001b[0m\u001b[0;34m(\u001b[0m\u001b[0mself\u001b[0m\u001b[0;34m,\u001b[0m \u001b[0mtop\u001b[0m\u001b[0;34m,\u001b[0m \u001b[0mbottom\u001b[0m\u001b[0;34m)\u001b[0m\u001b[0;34m:\u001b[0m\u001b[0;34m\u001b[0m\u001b[0;34m\u001b[0m\u001b[0m\n\u001b[1;32m      3\u001b[0m         \u001b[0;32mif\u001b[0m \u001b[0mtype\u001b[0m\u001b[0;34m(\u001b[0m\u001b[0mtop\u001b[0m\u001b[0;34m)\u001b[0m \u001b[0;34m!=\u001b[0m \u001b[0mint\u001b[0m \u001b[0;32mor\u001b[0m \u001b[0mtype\u001b[0m\u001b[0;34m(\u001b[0m\u001b[0mbottom\u001b[0m\u001b[0;34m)\u001b[0m \u001b[0;34m!=\u001b[0m \u001b[0mint\u001b[0m\u001b[0;34m:\u001b[0m\u001b[0;34m\u001b[0m\u001b[0;34m\u001b[0m\u001b[0m\n\u001b[0;32m----> 4\u001b[0;31m             \u001b[0;32mraise\u001b[0m \u001b[0mValueError\u001b[0m\u001b[0;34m(\u001b[0m\u001b[0;34m'Number should be integer'\u001b[0m\u001b[0;34m)\u001b[0m\u001b[0;34m\u001b[0m\u001b[0;34m\u001b[0m\u001b[0m\n\u001b[0m\u001b[1;32m      5\u001b[0m \u001b[0;34m\u001b[0m\u001b[0m\n\u001b[1;32m      6\u001b[0m         \u001b[0mcommon\u001b[0m \u001b[0;34m=\u001b[0m \u001b[0mself\u001b[0m\u001b[0;34m.\u001b[0m\u001b[0mgcd\u001b[0m\u001b[0;34m(\u001b[0m\u001b[0mtop\u001b[0m\u001b[0;34m,\u001b[0m \u001b[0mbottom\u001b[0m\u001b[0;34m)\u001b[0m\u001b[0;34m\u001b[0m\u001b[0;34m\u001b[0m\u001b[0m\n",
      "\u001b[0;31mValueError\u001b[0m: Number should be integer"
     ]
    }
   ],
   "source": [
    "f1 = Fraction(1, 4.)"
   ]
  },
  {
   "cell_type": "markdown",
   "metadata": {},
   "source": [
    "# Problem 7.\n",
    "\n",
    "反射メソッドの確認\n",
    "\n",
    "Ref)  \n",
    "https://qiita.com/tell-k/items/ec64a82e7883cb00a7fb"
   ]
  },
  {
   "cell_type": "markdown",
   "metadata": {},
   "source": [
    "add, radd共に実装されていない"
   ]
  },
  {
   "cell_type": "code",
   "execution_count": 95,
   "metadata": {},
   "outputs": [],
   "source": [
    "class NaiveFraction:\n",
    "    def __init__(self, top, bottom):\n",
    "        if type(top) != int or type(bottom) != int:\n",
    "            raise ValueError('Number should be integer')\n",
    "        \n",
    "        common = self.gcd(top, bottom)\n",
    "        self._num = top // common\n",
    "        self._den = bottom // common\n",
    "        \n",
    "    def __str__(self):\n",
    "        return f'{self._num} / {self._den}'\n",
    "    \n",
    "    @property\n",
    "    def num(self):\n",
    "        return self._num\n",
    "    \n",
    "    @num.setter\n",
    "    def num(self, val):\n",
    "        self._num = val\n",
    "        \n",
    "    @property\n",
    "    def den(self):\n",
    "        return self._den\n",
    "    \n",
    "    @den.setter\n",
    "    def den(self, val):\n",
    "        self._den = val\n",
    "    \n",
    "    @staticmethod\n",
    "    def gcd(m, n):\n",
    "        while m % n != 0:\n",
    "            m, n = n, m % n\n",
    "        return n"
   ]
  },
  {
   "cell_type": "markdown",
   "metadata": {},
   "source": [
    "raddは実装されていない．"
   ]
  },
  {
   "cell_type": "code",
   "execution_count": 96,
   "metadata": {},
   "outputs": [],
   "source": [
    "class AddFraction:\n",
    "    def __init__(self, top, bottom):\n",
    "        if type(top) != int or type(bottom) != int:\n",
    "            raise ValueError('Number should be integer')\n",
    "        \n",
    "        common = self.gcd(top, bottom)\n",
    "        self._num = top // common\n",
    "        self._den = bottom // common\n",
    "        \n",
    "    def __str__(self):\n",
    "        return f'{self._num} / {self._den}'\n",
    "    \n",
    "    def __add__(self, other):\n",
    "        new_num = self._num * other.den + self._den * other.num\n",
    "        new_den = self._den * other.den\n",
    "        return AddFraction(new_num, new_den)\n",
    "    \n",
    "    @property\n",
    "    def num(self):\n",
    "        return self._num\n",
    "    \n",
    "    @num.setter\n",
    "    def num(self, val):\n",
    "        self._num = val\n",
    "        \n",
    "    @property\n",
    "    def den(self):\n",
    "        return self._den\n",
    "    \n",
    "    @den.setter\n",
    "    def den(self, val):\n",
    "        self._den = val\n",
    "    \n",
    "    @staticmethod\n",
    "    def gcd(m, n):\n",
    "        while m % n != 0:\n",
    "            m, n = n, m % n\n",
    "        return n"
   ]
  },
  {
   "cell_type": "markdown",
   "metadata": {},
   "source": [
    "radd実装有り"
   ]
  },
  {
   "cell_type": "code",
   "execution_count": 97,
   "metadata": {},
   "outputs": [],
   "source": [
    "class RaddFraction:\n",
    "    def __init__(self, top, bottom):\n",
    "        if type(top) != int or type(bottom) != int:\n",
    "            raise ValueError('Number should be integer')\n",
    "        \n",
    "        common = self.gcd(top, bottom)\n",
    "        self._num = top // common\n",
    "        self._den = bottom // common\n",
    "        \n",
    "    def __str__(self):\n",
    "        return f'{self._num} / {self._den}'\n",
    "    \n",
    "    def __radd__(self, other):\n",
    "        new_num = self._num * other.den + self._den * other.num\n",
    "        new_den = self._den * other.den\n",
    "        return RaddFraction(new_num, new_den)\n",
    "    \n",
    "    @property\n",
    "    def num(self):\n",
    "        return self._num\n",
    "    \n",
    "    @num.setter\n",
    "    def num(self, val):\n",
    "        self._num = val\n",
    "        \n",
    "    @property\n",
    "    def den(self):\n",
    "        return self._den\n",
    "    \n",
    "    @den.setter\n",
    "    def den(self, val):\n",
    "        self._den = val\n",
    "    \n",
    "    @staticmethod\n",
    "    def gcd(m, n):\n",
    "        while m % n != 0:\n",
    "            m, n = n, m % n\n",
    "        return n"
   ]
  },
  {
   "cell_type": "markdown",
   "metadata": {},
   "source": [
    "* f1: add, radd共に無し\n",
    "* f2: add有り\n",
    "* f3: radd有り"
   ]
  },
  {
   "cell_type": "code",
   "execution_count": 98,
   "metadata": {},
   "outputs": [],
   "source": [
    "f1 = NaiveFraction(1, 4)\n",
    "f2 = AddFraction(1, 4)\n",
    "f3 = RaddFraction(1, 2)"
   ]
  },
  {
   "cell_type": "markdown",
   "metadata": {},
   "source": [
    "## Case 1: f1, f2"
   ]
  },
  {
   "cell_type": "markdown",
   "metadata": {},
   "source": [
    "f2にraddが実装されていないので，エラーが出る"
   ]
  },
  {
   "cell_type": "code",
   "execution_count": 108,
   "metadata": {},
   "outputs": [
    {
     "ename": "TypeError",
     "evalue": "unsupported operand type(s) for +: 'NaiveFraction' and 'AddFraction'",
     "output_type": "error",
     "traceback": [
      "\u001b[0;31m---------------------------------------------------------------------------\u001b[0m",
      "\u001b[0;31mTypeError\u001b[0m                                 Traceback (most recent call last)",
      "\u001b[0;32m<ipython-input-108-ad0256b81ae0>\u001b[0m in \u001b[0;36m<module>\u001b[0;34m\u001b[0m\n\u001b[0;32m----> 1\u001b[0;31m \u001b[0mf1\u001b[0m \u001b[0;34m+\u001b[0m \u001b[0mf2\u001b[0m\u001b[0;34m\u001b[0m\u001b[0;34m\u001b[0m\u001b[0m\n\u001b[0m",
      "\u001b[0;31mTypeError\u001b[0m: unsupported operand type(s) for +: 'NaiveFraction' and 'AddFraction'"
     ]
    }
   ],
   "source": [
    "f1 + f2"
   ]
  },
  {
   "cell_type": "markdown",
   "metadata": {},
   "source": [
    "逆はOK"
   ]
  },
  {
   "cell_type": "code",
   "execution_count": 100,
   "metadata": {},
   "outputs": [
    {
     "data": {
      "text/plain": [
       "<__main__.AddFraction at 0x10a7b8a90>"
      ]
     },
     "execution_count": 100,
     "metadata": {},
     "output_type": "execute_result"
    }
   ],
   "source": [
    "f2 + f1"
   ]
  },
  {
   "cell_type": "code",
   "execution_count": 101,
   "metadata": {},
   "outputs": [
    {
     "name": "stdout",
     "output_type": "stream",
     "text": [
      "1 / 2\n"
     ]
    }
   ],
   "source": [
    "print(f2 + f1)"
   ]
  },
  {
   "cell_type": "markdown",
   "metadata": {},
   "source": [
    "## Case 2: f1, f3\n",
    "\n",
    "f3のraddが実行される"
   ]
  },
  {
   "cell_type": "code",
   "execution_count": 106,
   "metadata": {},
   "outputs": [
    {
     "data": {
      "text/plain": [
       "<__main__.RaddFraction at 0x10a7c07f0>"
      ]
     },
     "execution_count": 106,
     "metadata": {},
     "output_type": "execute_result"
    }
   ],
   "source": [
    "f1 + f3"
   ]
  },
  {
   "cell_type": "code",
   "execution_count": 102,
   "metadata": {},
   "outputs": [
    {
     "name": "stdout",
     "output_type": "stream",
     "text": [
      "3 / 4\n"
     ]
    }
   ],
   "source": [
    "print(f1 + f3)"
   ]
  },
  {
   "cell_type": "markdown",
   "metadata": {},
   "source": [
    "f3が先に来ると，addがないので実行できない"
   ]
  },
  {
   "cell_type": "code",
   "execution_count": 107,
   "metadata": {},
   "outputs": [
    {
     "ename": "TypeError",
     "evalue": "unsupported operand type(s) for +: 'RaddFraction' and 'NaiveFraction'",
     "output_type": "error",
     "traceback": [
      "\u001b[0;31m---------------------------------------------------------------------------\u001b[0m",
      "\u001b[0;31mTypeError\u001b[0m                                 Traceback (most recent call last)",
      "\u001b[0;32m<ipython-input-107-d0017acfb73b>\u001b[0m in \u001b[0;36m<module>\u001b[0;34m\u001b[0m\n\u001b[0;32m----> 1\u001b[0;31m \u001b[0mf3\u001b[0m \u001b[0;34m+\u001b[0m \u001b[0mf1\u001b[0m\u001b[0;34m\u001b[0m\u001b[0;34m\u001b[0m\u001b[0m\n\u001b[0m",
      "\u001b[0;31mTypeError\u001b[0m: unsupported operand type(s) for +: 'RaddFraction' and 'NaiveFraction'"
     ]
    }
   ],
   "source": [
    "f3 + f1"
   ]
  },
  {
   "cell_type": "markdown",
   "metadata": {},
   "source": [
    "## Case 3: f2, f3\n",
    "\n",
    "f2にaddが実装されているので，そちらが実行される"
   ]
  },
  {
   "cell_type": "code",
   "execution_count": 109,
   "metadata": {},
   "outputs": [
    {
     "data": {
      "text/plain": [
       "<__main__.AddFraction at 0x10a7c0278>"
      ]
     },
     "execution_count": 109,
     "metadata": {},
     "output_type": "execute_result"
    }
   ],
   "source": [
    "f2 + f3"
   ]
  },
  {
   "cell_type": "code",
   "execution_count": 110,
   "metadata": {},
   "outputs": [
    {
     "name": "stdout",
     "output_type": "stream",
     "text": [
      "3 / 4\n"
     ]
    }
   ],
   "source": [
    "print(f2 + f3)"
   ]
  },
  {
   "cell_type": "markdown",
   "metadata": {},
   "source": [
    "f3にaddが無く，f2にraddが無いので，実行されない"
   ]
  },
  {
   "cell_type": "code",
   "execution_count": 111,
   "metadata": {},
   "outputs": [
    {
     "ename": "TypeError",
     "evalue": "unsupported operand type(s) for +: 'RaddFraction' and 'AddFraction'",
     "output_type": "error",
     "traceback": [
      "\u001b[0;31m---------------------------------------------------------------------------\u001b[0m",
      "\u001b[0;31mTypeError\u001b[0m                                 Traceback (most recent call last)",
      "\u001b[0;32m<ipython-input-111-5d1c1e35fd0c>\u001b[0m in \u001b[0;36m<module>\u001b[0;34m\u001b[0m\n\u001b[0;32m----> 1\u001b[0;31m \u001b[0mf3\u001b[0m \u001b[0;34m+\u001b[0m \u001b[0mf2\u001b[0m\u001b[0;34m\u001b[0m\u001b[0;34m\u001b[0m\u001b[0m\n\u001b[0m",
      "\u001b[0;31mTypeError\u001b[0m: unsupported operand type(s) for +: 'RaddFraction' and 'AddFraction'"
     ]
    }
   ],
   "source": [
    "f3 + f2"
   ]
  },
  {
   "cell_type": "markdown",
   "metadata": {},
   "source": [
    "# Problem 8\n",
    "\n",
    "In-place Operators\n",
    "\n",
    "https://docs.python.org/ja/3/library/operator.html#in-place-operators"
   ]
  },
  {
   "cell_type": "code",
   "execution_count": 2,
   "metadata": {},
   "outputs": [],
   "source": [
    "class NaiveFraction:\n",
    "    def __init__(self, top, bottom):\n",
    "        if type(top) != int or type(bottom) != int:\n",
    "            raise ValueError('Number should be integer')\n",
    "        \n",
    "        common = self.gcd(top, bottom)\n",
    "        self._num = top // common\n",
    "        self._den = bottom // common\n",
    "        \n",
    "    def __str__(self):\n",
    "        return f'{self._num} / {self._den}'\n",
    "    \n",
    "    @property\n",
    "    def num(self):\n",
    "        return self._num\n",
    "    \n",
    "    @num.setter\n",
    "    def num(self, val):\n",
    "        self._num = val\n",
    "        \n",
    "    @property\n",
    "    def den(self):\n",
    "        return self._den\n",
    "    \n",
    "    @den.setter\n",
    "    def den(self, val):\n",
    "        self._den = val\n",
    "    \n",
    "    @staticmethod\n",
    "    def gcd(m, n):\n",
    "        while m % n != 0:\n",
    "            m, n = n, m % n\n",
    "        return n"
   ]
  },
  {
   "cell_type": "code",
   "execution_count": 3,
   "metadata": {},
   "outputs": [],
   "source": [
    "class AddFraction:\n",
    "    def __init__(self, top, bottom):\n",
    "        if type(top) != int or type(bottom) != int:\n",
    "            raise ValueError('Number should be integer')\n",
    "        \n",
    "        common = self.gcd(top, bottom)\n",
    "        self._num = top // common\n",
    "        self._den = bottom // common\n",
    "        \n",
    "    def __str__(self):\n",
    "        return f'{self._num} / {self._den}'\n",
    "    \n",
    "    def __add__(self, other):\n",
    "        new_num = self._num * other.den + self._den * other.num\n",
    "        new_den = self._den * other.den\n",
    "        return AddFraction(new_num, new_den)\n",
    "    \n",
    "    @property\n",
    "    def num(self):\n",
    "        return self._num\n",
    "    \n",
    "    @num.setter\n",
    "    def num(self, val):\n",
    "        self._num = val\n",
    "        \n",
    "    @property\n",
    "    def den(self):\n",
    "        return self._den\n",
    "    \n",
    "    @den.setter\n",
    "    def den(self, val):\n",
    "        self._den = val\n",
    "    \n",
    "    @staticmethod\n",
    "    def gcd(m, n):\n",
    "        while m % n != 0:\n",
    "            m, n = n, m % n\n",
    "        return n"
   ]
  },
  {
   "cell_type": "code",
   "execution_count": 4,
   "metadata": {},
   "outputs": [],
   "source": [
    "class IaddFraction:\n",
    "    def __init__(self, top, bottom):\n",
    "        if type(top) != int or type(bottom) != int:\n",
    "            raise ValueError('Number should be integer')\n",
    "        \n",
    "        common = self.gcd(top, bottom)\n",
    "        self._num = top // common\n",
    "        self._den = bottom // common\n",
    "        \n",
    "    def __str__(self):\n",
    "        return f'{self._num} / {self._den}'\n",
    "    \n",
    "    def __iadd__(self, other):\n",
    "        new_num = self._num * other.den + self._den * other.num\n",
    "        new_den = self._den * other.den\n",
    "        return IaddFraction(new_num, new_den)\n",
    "    \n",
    "    @property\n",
    "    def num(self):\n",
    "        return self._num\n",
    "    \n",
    "    @num.setter\n",
    "    def num(self, val):\n",
    "        self._num = val\n",
    "        \n",
    "    @property\n",
    "    def den(self):\n",
    "        return self._den\n",
    "    \n",
    "    @den.setter\n",
    "    def den(self, val):\n",
    "        self._den = val\n",
    "    \n",
    "    @staticmethod\n",
    "    def gcd(m, n):\n",
    "        while m % n != 0:\n",
    "            m, n = n, m % n\n",
    "        return n"
   ]
  },
  {
   "cell_type": "markdown",
   "metadata": {},
   "source": [
    "先程と同様に，iaddの有無の異なるクラスを作る\n",
    "\n",
    "* f1: add, radd共に無し\n",
    "* f2: add有り\n",
    "* f3: iadd有り"
   ]
  },
  {
   "cell_type": "markdown",
   "metadata": {},
   "source": [
    "## Case 1"
   ]
  },
  {
   "cell_type": "code",
   "execution_count": 5,
   "metadata": {},
   "outputs": [
    {
     "name": "stdout",
     "output_type": "stream",
     "text": [
      "1 / 2\n"
     ]
    }
   ],
   "source": [
    "f1 = NaiveFraction(1, 4)\n",
    "f2 = AddFraction(1, 4)\n",
    "print(f2 + f1)"
   ]
  },
  {
   "cell_type": "code",
   "execution_count": 6,
   "metadata": {},
   "outputs": [
    {
     "name": "stdout",
     "output_type": "stream",
     "text": [
      "1 / 2\n"
     ]
    }
   ],
   "source": [
    "f1 = NaiveFraction(1, 4)\n",
    "f2 = AddFraction(1, 4)\n",
    "f2 += f1\n",
    "print(f2)"
   ]
  },
  {
   "cell_type": "markdown",
   "metadata": {},
   "source": [
    "## Case 2"
   ]
  },
  {
   "cell_type": "code",
   "execution_count": 7,
   "metadata": {},
   "outputs": [
    {
     "ename": "TypeError",
     "evalue": "unsupported operand type(s) for +: 'IaddFraction' and 'AddFraction'",
     "output_type": "error",
     "traceback": [
      "\u001b[0;31m---------------------------------------------------------------------------\u001b[0m",
      "\u001b[0;31mTypeError\u001b[0m                                 Traceback (most recent call last)",
      "\u001b[0;32m<ipython-input-7-4c85b856e25f>\u001b[0m in \u001b[0;36m<module>\u001b[0;34m\u001b[0m\n\u001b[1;32m      1\u001b[0m \u001b[0mf3\u001b[0m \u001b[0;34m=\u001b[0m \u001b[0mIaddFraction\u001b[0m\u001b[0;34m(\u001b[0m\u001b[0;36m1\u001b[0m\u001b[0;34m,\u001b[0m \u001b[0;36m2\u001b[0m\u001b[0;34m)\u001b[0m\u001b[0;34m\u001b[0m\u001b[0;34m\u001b[0m\u001b[0m\n\u001b[0;32m----> 2\u001b[0;31m \u001b[0mf3\u001b[0m \u001b[0;34m+\u001b[0m \u001b[0mf2\u001b[0m\u001b[0;34m\u001b[0m\u001b[0;34m\u001b[0m\u001b[0m\n\u001b[0m",
      "\u001b[0;31mTypeError\u001b[0m: unsupported operand type(s) for +: 'IaddFraction' and 'AddFraction'"
     ]
    }
   ],
   "source": [
    "f3 = IaddFraction(1, 2)\n",
    "f3 + f2"
   ]
  },
  {
   "cell_type": "code",
   "execution_count": 8,
   "metadata": {},
   "outputs": [
    {
     "name": "stdout",
     "output_type": "stream",
     "text": [
      "3 / 4\n"
     ]
    }
   ],
   "source": [
    "f3 = IaddFraction(1, 2)\n",
    "f2 = AddFraction(1, 4)\n",
    "f3 += f2\n",
    "print(f3)"
   ]
  },
  {
   "cell_type": "markdown",
   "metadata": {},
   "source": [
    "# Problem 9"
   ]
  },
  {
   "cell_type": "code",
   "execution_count": 35,
   "metadata": {},
   "outputs": [],
   "source": [
    "class StrFraction:\n",
    "    def __init__(self, top, bottom):\n",
    "        self._num = top\n",
    "        self._den = bottom\n",
    "        \n",
    "    def __str__(self):\n",
    "        return f'Str: {self._num} / {self._den}'"
   ]
  },
  {
   "cell_type": "code",
   "execution_count": 13,
   "metadata": {},
   "outputs": [],
   "source": [
    "class ReprFraction:\n",
    "    def __init__(self, top, bottom):\n",
    "        self._num = top\n",
    "        self._den = bottom\n",
    "        \n",
    "    def __repr__(self):\n",
    "        return f'Repr: {self._num} / {self._den}'"
   ]
  },
  {
   "cell_type": "code",
   "execution_count": 14,
   "metadata": {},
   "outputs": [],
   "source": [
    "class BothFraction:\n",
    "    def __init__(self, top, bottom):\n",
    "        self._num = top\n",
    "        self._den = bottom\n",
    "        \n",
    "    def __str__(self):\n",
    "        return f'Str: {self._num} / {self._den}'\n",
    "        \n",
    "    def __repr__(self):\n",
    "        return f'Repr: {self._num} / {self._den}'"
   ]
  },
  {
   "cell_type": "code",
   "execution_count": 15,
   "metadata": {},
   "outputs": [],
   "source": [
    "f1 = StrFraction(1, 2)\n",
    "f2 = ReprFraction(1, 2)\n",
    "f3 = BothFraction(1, 2)"
   ]
  },
  {
   "cell_type": "markdown",
   "metadata": {},
   "source": [
    "## Case 1\n",
    "\n",
    "printにおいては，strが優先される"
   ]
  },
  {
   "cell_type": "code",
   "execution_count": 16,
   "metadata": {},
   "outputs": [
    {
     "name": "stdout",
     "output_type": "stream",
     "text": [
      "Str: 1 / 2\n",
      "Repr: 1 / 2\n",
      "Str: 1 / 2\n"
     ]
    }
   ],
   "source": [
    "print(f1)\n",
    "print(f2)\n",
    "print(f3)"
   ]
  },
  {
   "cell_type": "markdown",
   "metadata": {},
   "source": [
    "## Case 2"
   ]
  },
  {
   "cell_type": "code",
   "execution_count": 32,
   "metadata": {},
   "outputs": [
    {
     "name": "stdout",
     "output_type": "stream",
     "text": [
      "Print Str: 1 / 2\n",
      "Print Repr: 1 / 2\n",
      "Print Str: 1 / 2\n"
     ]
    }
   ],
   "source": [
    "print('Print ' + str(f1))\n",
    "print('Print ' + str(f2))\n",
    "print('Print ' + str(f3))"
   ]
  },
  {
   "cell_type": "markdown",
   "metadata": {},
   "source": [
    "## Case 3\n",
    "\n",
    "reprで呼び出すと，違いが現れる"
   ]
  },
  {
   "cell_type": "code",
   "execution_count": 33,
   "metadata": {},
   "outputs": [
    {
     "name": "stdout",
     "output_type": "stream",
     "text": [
      "Print <__main__.StrFraction object at 0x10fc8d320>\n",
      "Print Repr: 1 / 2\n",
      "Print Repr: 1 / 2\n"
     ]
    }
   ],
   "source": [
    "print('Print ' + repr(f1))\n",
    "print('Print ' + repr(f2))\n",
    "print('Print ' + repr(f3))"
   ]
  },
  {
   "cell_type": "markdown",
   "metadata": {},
   "source": [
    "もしくは，何もなしで実行するか"
   ]
  },
  {
   "cell_type": "code",
   "execution_count": 38,
   "metadata": {},
   "outputs": [
    {
     "data": {
      "text/plain": [
       "<__main__.StrFraction at 0x10fc8d320>"
      ]
     },
     "execution_count": 38,
     "metadata": {},
     "output_type": "execute_result"
    }
   ],
   "source": [
    "f1"
   ]
  },
  {
   "cell_type": "code",
   "execution_count": 39,
   "metadata": {},
   "outputs": [
    {
     "data": {
      "text/plain": [
       "Repr: 1 / 2"
      ]
     },
     "execution_count": 39,
     "metadata": {},
     "output_type": "execute_result"
    }
   ],
   "source": [
    "f2"
   ]
  },
  {
   "cell_type": "code",
   "execution_count": 40,
   "metadata": {},
   "outputs": [
    {
     "data": {
      "text/plain": [
       "Repr: 1 / 2"
      ]
     },
     "execution_count": 40,
     "metadata": {},
     "output_type": "execute_result"
    }
   ],
   "source": [
    "f3"
   ]
  }
 ],
 "metadata": {
  "kernelspec": {
   "display_name": "Python 3",
   "language": "python",
   "name": "python3"
  },
  "language_info": {
   "codemirror_mode": {
    "name": "ipython",
    "version": 3
   },
   "file_extension": ".py",
   "mimetype": "text/x-python",
   "name": "python",
   "nbconvert_exporter": "python",
   "pygments_lexer": "ipython3",
   "version": "3.7.3"
  }
 },
 "nbformat": 4,
 "nbformat_minor": 2
}
