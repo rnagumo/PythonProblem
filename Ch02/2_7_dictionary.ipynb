{
 "cells": [
  {
   "cell_type": "markdown",
   "metadata": {},
   "source": [
    "# Dictionary\n",
    "\n",
    "http://interactivepython.org/runestone/static/pythonds/AlgorithmAnalysis/Dictionaries.html"
   ]
  },
  {
   "cell_type": "code",
   "execution_count": 1,
   "metadata": {},
   "outputs": [],
   "source": [
    "import timeit\n",
    "import random"
   ]
  },
  {
   "cell_type": "code",
   "execution_count": 5,
   "metadata": {},
   "outputs": [
    {
     "name": "stdout",
     "output_type": "stream",
     "text": [
      "10000, 0.066, 0.001\n",
      "210000, 1.042, 0.001\n",
      "410000, 2.000, 0.001\n",
      "610000, 2.906, 0.001\n",
      "810000, 3.850, 0.001\n"
     ]
    }
   ],
   "source": [
    "for i in range(10000, 1000001, 200000):\n",
    "    t = timeit.Timer(f'random.randrange({i}) in x', 'from __main__ import random, x')\n",
    "\n",
    "    x = list(range(i))\n",
    "    lst_time = t.timeit(number=1000)\n",
    "    \n",
    "    x = {j: None for j in range(i)}\n",
    "    d_time = t.timeit(number=1000)\n",
    "    \n",
    "    print('{}, {:.3f}, {:.3f}'.format(i, lst_time, d_time))"
   ]
  },
  {
   "cell_type": "code",
   "execution_count": null,
   "metadata": {},
   "outputs": [],
   "source": []
  },
  {
   "cell_type": "code",
   "execution_count": null,
   "metadata": {},
   "outputs": [],
   "source": []
  },
  {
   "cell_type": "code",
   "execution_count": null,
   "metadata": {},
   "outputs": [],
   "source": []
  }
 ],
 "metadata": {
  "kernelspec": {
   "display_name": "Python 3",
   "language": "python",
   "name": "python3"
  },
  "language_info": {
   "codemirror_mode": {
    "name": "ipython",
    "version": 3
   },
   "file_extension": ".py",
   "mimetype": "text/x-python",
   "name": "python",
   "nbconvert_exporter": "python",
   "pygments_lexer": "ipython3",
   "version": "3.7.3"
  }
 },
 "nbformat": 4,
 "nbformat_minor": 2
}
