{
 "cells": [
  {
   "cell_type": "markdown",
   "metadata": {},
   "source": [
    "# Exercises\n",
    "\n",
    "http://interactivepython.org/runestone/static/pythonds/AlgorithmAnalysis/ProgrammingExercises.html"
   ]
  },
  {
   "cell_type": "code",
   "execution_count": 1,
   "metadata": {},
   "outputs": [],
   "source": [
    "import timeit\n",
    "import random"
   ]
  },
  {
   "cell_type": "markdown",
   "metadata": {},
   "source": [
    "# 1."
   ]
  },
  {
   "cell_type": "code",
   "execution_count": 9,
   "metadata": {},
   "outputs": [
    {
     "name": "stdout",
     "output_type": "stream",
     "text": [
      "100000, 0.000\n",
      "2100000, 0.000\n",
      "4100000, 0.000\n",
      "6100000, 0.000\n",
      "8100000, 0.000\n",
      "10100000, 0.000\n"
     ]
    }
   ],
   "source": [
    "for i in range(100000, 11000000, 2000000):\n",
    "    t = timeit.Timer(f'x[{i // 10}]', 'from __main__ import random, x')\n",
    "\n",
    "    x = list(range(i))\n",
    "    lst_time = t.timeit(number=1000)\n",
    "    \n",
    "    print('{}, {:.3f}'.format(i, lst_time))"
   ]
  },
  {
   "cell_type": "markdown",
   "metadata": {},
   "source": [
    "# 2."
   ]
  },
  {
   "cell_type": "code",
   "execution_count": 10,
   "metadata": {},
   "outputs": [
    {
     "name": "stdout",
     "output_type": "stream",
     "text": [
      "100000, 0.000\n",
      "300000, 0.000\n",
      "500000, 0.000\n",
      "700000, 0.000\n",
      "900000, 0.000\n"
     ]
    }
   ],
   "source": [
    "for i in range(100000, 1100000, 200000):\n",
    "    t = timeit.Timer(f'x[{i // 10}]', 'from __main__ import random, x')\n",
    "    x = {j: None for j in range(i)}\n",
    "    d_time = t.timeit(number=1000)\n",
    "    print('{}, {:.3f}'.format(i, d_time))"
   ]
  },
  {
   "cell_type": "code",
   "execution_count": 11,
   "metadata": {},
   "outputs": [
    {
     "name": "stdout",
     "output_type": "stream",
     "text": [
      "100000, 0.000\n",
      "300000, 0.000\n",
      "500000, 0.000\n",
      "700000, 0.000\n",
      "900000, 0.000\n"
     ]
    }
   ],
   "source": [
    "for i in range(100000, 1100000, 200000):\n",
    "    t = timeit.Timer(f'x[{i // 10}] = 1', 'from __main__ import random, x')\n",
    "    x = {j: None for j in range(i)}\n",
    "    d_time = t.timeit(number=1000)\n",
    "    print('{}, {:.3f}'.format(i, d_time))"
   ]
  },
  {
   "cell_type": "markdown",
   "metadata": {},
   "source": [
    "# 3."
   ]
  },
  {
   "cell_type": "code",
   "execution_count": 14,
   "metadata": {},
   "outputs": [
    {
     "name": "stdout",
     "output_type": "stream",
     "text": [
      "100000, 0.000, 0.000\n",
      "300000, 0.001, 0.000\n",
      "500000, 0.001, 0.000\n",
      "700000, 0.001, 0.000\n",
      "900000, 0.001, 0.000\n"
     ]
    }
   ],
   "source": [
    "for i in range(100000, 1100000, 200000):\n",
    "    t = timeit.Timer(f'del x[10]', 'from __main__ import random, x')\n",
    "    \n",
    "    x = list(range(i))\n",
    "    lst_time = t.timeit(number=1)\n",
    "    \n",
    "    x = {j: None for j in range(i)}\n",
    "    d_time = t.timeit(number=1)\n",
    "    \n",
    "    print('{}, {:.3f}, {:.3f}'.format(i, lst_time, d_time))"
   ]
  },
  {
   "cell_type": "markdown",
   "metadata": {},
   "source": [
    "# 4."
   ]
  },
  {
   "cell_type": "code",
   "execution_count": 20,
   "metadata": {},
   "outputs": [
    {
     "name": "stdout",
     "output_type": "stream",
     "text": [
      "100000, 0.458\n",
      "300000, 1.727\n",
      "500000, 2.585\n",
      "700000, 3.768\n",
      "900000, 4.526\n"
     ]
    }
   ],
   "source": [
    "for i in range(100000, 1100000, 200000):\n",
    "    t = timeit.Timer(f'x.sort(), x[10]', 'from __main__ import random, x')\n",
    "    \n",
    "    x = list(range(i))\n",
    "    lst_time = t.timeit(number=1000)\n",
    "    \n",
    "    print('{}, {:.3f}'.format(i, lst_time))"
   ]
  },
  {
   "cell_type": "code",
   "execution_count": null,
   "metadata": {},
   "outputs": [],
   "source": []
  }
 ],
 "metadata": {
  "kernelspec": {
   "display_name": "Python 3",
   "language": "python",
   "name": "python3"
  },
  "language_info": {
   "codemirror_mode": {
    "name": "ipython",
    "version": 3
   },
   "file_extension": ".py",
   "mimetype": "text/x-python",
   "name": "python",
   "nbconvert_exporter": "python",
   "pygments_lexer": "ipython3",
   "version": "3.7.3"
  }
 },
 "nbformat": 4,
 "nbformat_minor": 2
}
