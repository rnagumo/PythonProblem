{
 "cells": [
  {
   "cell_type": "markdown",
   "metadata": {},
   "source": [
    "# List\n",
    "\n",
    "http://interactivepython.org/runestone/static/pythonds/AlgorithmAnalysis/Lists.html"
   ]
  },
  {
   "cell_type": "code",
   "execution_count": 1,
   "metadata": {},
   "outputs": [],
   "source": [
    "from timeit import Timer"
   ]
  },
  {
   "cell_type": "markdown",
   "metadata": {},
   "source": [
    "# List generation"
   ]
  },
  {
   "cell_type": "code",
   "execution_count": 1,
   "metadata": {},
   "outputs": [
    {
     "name": "stdout",
     "output_type": "stream",
     "text": [
      "CPU times: user 1.57 ms, sys: 40 µs, total: 1.61 ms\n",
      "Wall time: 1.61 ms\n"
     ]
    }
   ],
   "source": [
    "%%time\n",
    "l = []\n",
    "for i in range(1000):\n",
    "    l = l + [i]"
   ]
  },
  {
   "cell_type": "code",
   "execution_count": 2,
   "metadata": {},
   "outputs": [
    {
     "name": "stdout",
     "output_type": "stream",
     "text": [
      "CPU times: user 175 µs, sys: 13 µs, total: 188 µs\n",
      "Wall time: 190 µs\n"
     ]
    }
   ],
   "source": [
    "%%time\n",
    "l = []\n",
    "for i in range(1000):\n",
    "    l += [i]"
   ]
  },
  {
   "cell_type": "code",
   "execution_count": 3,
   "metadata": {},
   "outputs": [
    {
     "name": "stdout",
     "output_type": "stream",
     "text": [
      "CPU times: user 141 µs, sys: 14 µs, total: 155 µs\n",
      "Wall time: 158 µs\n"
     ]
    }
   ],
   "source": [
    "%%time\n",
    "l = []\n",
    "for i in range(1000):\n",
    "    l.append(i)"
   ]
  },
  {
   "cell_type": "code",
   "execution_count": 4,
   "metadata": {},
   "outputs": [
    {
     "name": "stdout",
     "output_type": "stream",
     "text": [
      "CPU times: user 56 µs, sys: 5 µs, total: 61 µs\n",
      "Wall time: 66 µs\n"
     ]
    }
   ],
   "source": [
    "%%time\n",
    "l = [i for i in range(1000)]"
   ]
  },
  {
   "cell_type": "code",
   "execution_count": 5,
   "metadata": {},
   "outputs": [
    {
     "name": "stdout",
     "output_type": "stream",
     "text": [
      "CPU times: user 24 µs, sys: 10 µs, total: 34 µs\n",
      "Wall time: 37.9 µs\n"
     ]
    }
   ],
   "source": [
    "%%time\n",
    "l = list(range(1000))"
   ]
  },
  {
   "cell_type": "code",
   "execution_count": 6,
   "metadata": {},
   "outputs": [
    {
     "name": "stdout",
     "output_type": "stream",
     "text": [
      "Run 0.001583 ms\n",
      "Run 0.021615 ms\n",
      "Run 0.170307 ms\n",
      "Run 1.700570 ms\n"
     ]
    }
   ],
   "source": [
    "def test(i):\n",
    "    l = list(range(i))\n",
    "\n",
    "for i in [100, 1000, 10000, 100000]:\n",
    "    t1 = Timer(f'test({i})', 'from __main__ import test')\n",
    "    print('Run {:.6f} ms'.format(t1.timeit(number=1000)))"
   ]
  },
  {
   "cell_type": "markdown",
   "metadata": {},
   "source": [
    "# Pop"
   ]
  },
  {
   "cell_type": "markdown",
   "metadata": {},
   "source": [
    "## pop(0)"
   ]
  },
  {
   "cell_type": "code",
   "execution_count": 7,
   "metadata": {},
   "outputs": [
    {
     "name": "stdout",
     "output_type": "stream",
     "text": [
      "Run 0.000025 ms\n",
      "Run 0.000215 ms\n",
      "Run 0.002876 ms\n",
      "Run 0.060481 ms\n",
      "Run 0.790707 ms\n"
     ]
    }
   ],
   "source": [
    "for i in [1000, 10000, 100000, 1000000, 10000000]:\n",
    "    x = list(range(i))\n",
    "    t1 = Timer('x.pop(0)', 'from __main__ import x')\n",
    "    print('Run {:.6f} ms'.format(t1.timeit(number=100)))"
   ]
  },
  {
   "cell_type": "markdown",
   "metadata": {},
   "source": [
    "## pop()"
   ]
  },
  {
   "cell_type": "code",
   "execution_count": 4,
   "metadata": {},
   "outputs": [
    {
     "name": "stdout",
     "output_type": "stream",
     "text": [
      "Run 0.000010 ms\n",
      "Run 0.000010 ms\n",
      "Run 0.000010 ms\n",
      "Run 0.000010 ms\n"
     ]
    }
   ],
   "source": [
    "for i in [1000, 100000, 1000000, 1000000]:\n",
    "    x = list(range(i))\n",
    "    t1 = Timer('x.pop()', 'from __main__ import x')\n",
    "    print('Run {:.6f} ms'.format(t1.timeit(number=100)))"
   ]
  },
  {
   "cell_type": "code",
   "execution_count": null,
   "metadata": {},
   "outputs": [],
   "source": []
  }
 ],
 "metadata": {
  "kernelspec": {
   "display_name": "Python 3",
   "language": "python",
   "name": "python3"
  },
  "language_info": {
   "codemirror_mode": {
    "name": "ipython",
    "version": 3
   },
   "file_extension": ".py",
   "mimetype": "text/x-python",
   "name": "python",
   "nbconvert_exporter": "python",
   "pygments_lexer": "ipython3",
   "version": "3.7.3"
  }
 },
 "nbformat": 4,
 "nbformat_minor": 2
}
