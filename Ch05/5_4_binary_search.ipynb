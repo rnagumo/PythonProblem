{
 "cells": [
  {
   "cell_type": "markdown",
   "metadata": {},
   "source": [
    "# 5.4. The Binary Search\n",
    "\n",
    "http://interactivepython.org/runestone/static/pythonds/SortSearch/TheBinarySearch.html"
   ]
  },
  {
   "cell_type": "code",
   "execution_count": 1,
   "metadata": {},
   "outputs": [],
   "source": [
    "def binary_search(list_, item):\n",
    "    first = 0\n",
    "    last = len(list_) - 1\n",
    "    found = False\n",
    "    \n",
    "    while first <= last and not found:\n",
    "        mid_point = (first + last) // 2\n",
    "        if list_[mid_point] == item:\n",
    "            found = True\n",
    "        elif list_[mid_point] > item:\n",
    "            last = mid_point - 1\n",
    "        else:\n",
    "            first = mid_point + 1\n",
    "            \n",
    "    return found"
   ]
  },
  {
   "cell_type": "code",
   "execution_count": 3,
   "metadata": {},
   "outputs": [
    {
     "data": {
      "text/plain": [
       "False"
      ]
     },
     "execution_count": 3,
     "metadata": {},
     "output_type": "execute_result"
    }
   ],
   "source": [
    "list_ = [1, 3, 5, 6, 8, 10]\n",
    "item = 4\n",
    "binary_search(list_, item)"
   ]
  },
  {
   "cell_type": "code",
   "execution_count": 24,
   "metadata": {},
   "outputs": [],
   "source": [
    "def binary_search(list_, item):\n",
    "    print(list_)\n",
    "    if len(list_) <= 1:\n",
    "        if list_[0] == item:\n",
    "            return True\n",
    "        else:\n",
    "            return False\n",
    "    else:\n",
    "        mid_point = len(list_) // 2\n",
    "        if list_[mid_point] == item:\n",
    "            return True\n",
    "        elif list_[mid_point] > item:\n",
    "            return binary_search(list_[:mid_point], item)\n",
    "        else:\n",
    "            return binary_search(list_[mid_point:], item)"
   ]
  },
  {
   "cell_type": "code",
   "execution_count": 27,
   "metadata": {},
   "outputs": [
    {
     "name": "stdout",
     "output_type": "stream",
     "text": [
      "[0, 1, 2, 8, 13, 17, 19, 32, 42, 94]\n",
      "[0, 1, 2, 8, 13]\n",
      "[2, 8, 13]\n",
      "[8, 13]\n",
      "[8]\n"
     ]
    },
    {
     "data": {
      "text/plain": [
       "False"
      ]
     },
     "execution_count": 27,
     "metadata": {},
     "output_type": "execute_result"
    }
   ],
   "source": [
    "testlist = [0, 1, 2, 8, 13, 17, 19, 32, 42, 94]\n",
    "binary_search(testlist, 12)"
   ]
  },
  {
   "cell_type": "code",
   "execution_count": null,
   "metadata": {},
   "outputs": [],
   "source": []
  },
  {
   "cell_type": "code",
   "execution_count": null,
   "metadata": {},
   "outputs": [],
   "source": []
  },
  {
   "cell_type": "code",
   "execution_count": null,
   "metadata": {},
   "outputs": [],
   "source": []
  }
 ],
 "metadata": {
  "kernelspec": {
   "display_name": "Python 3",
   "language": "python",
   "name": "python3"
  },
  "language_info": {
   "codemirror_mode": {
    "name": "ipython",
    "version": 3
   },
   "file_extension": ".py",
   "mimetype": "text/x-python",
   "name": "python",
   "nbconvert_exporter": "python",
   "pygments_lexer": "ipython3",
   "version": "3.7.3"
  }
 },
 "nbformat": 4,
 "nbformat_minor": 2
}
