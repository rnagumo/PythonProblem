{
 "cells": [
  {
   "cell_type": "markdown",
   "metadata": {},
   "source": [
    "# 5.5. Hashing\n",
    "\n",
    "http://interactivepython.org/runestone/static/pythonds/SortSearch/Hashing.html"
   ]
  },
  {
   "cell_type": "code",
   "execution_count": 3,
   "metadata": {},
   "outputs": [
    {
     "data": {
      "text/plain": [
       "\u001b[0;31mSignature:\u001b[0m  \u001b[0mhash\u001b[0m\u001b[0;34m(\u001b[0m\u001b[0mobj\u001b[0m\u001b[0;34m,\u001b[0m \u001b[0;34m/\u001b[0m\u001b[0;34m)\u001b[0m\u001b[0;34m\u001b[0m\u001b[0;34m\u001b[0m\u001b[0m\n",
       "\u001b[0;31mDocstring:\u001b[0m\n",
       "Return the hash value for the given object.\n",
       "\n",
       "Two objects that compare equal must also have the same hash value, but the\n",
       "reverse is not necessarily true.\n",
       "\u001b[0;31mType:\u001b[0m      builtin_function_or_method\n"
      ]
     },
     "metadata": {},
     "output_type": "display_data"
    }
   ],
   "source": [
    "? hash"
   ]
  },
  {
   "cell_type": "code",
   "execution_count": 8,
   "metadata": {},
   "outputs": [],
   "source": [
    "def hash_func(string, table_size):\n",
    "    return sum([ord(c) for c in string]) // table_size"
   ]
  },
  {
   "cell_type": "code",
   "execution_count": 9,
   "metadata": {},
   "outputs": [
    {
     "data": {
      "text/plain": [
       "28"
      ]
     },
     "execution_count": 9,
     "metadata": {},
     "output_type": "execute_result"
    }
   ],
   "source": [
    "hash_func('cat', 11)"
   ]
  },
  {
   "cell_type": "code",
   "execution_count": 10,
   "metadata": {},
   "outputs": [
    {
     "data": {
      "text/plain": [
       "28"
      ]
     },
     "execution_count": 10,
     "metadata": {},
     "output_type": "execute_result"
    }
   ],
   "source": [
    "hash_func('act', 11)"
   ]
  },
  {
   "cell_type": "code",
   "execution_count": 77,
   "metadata": {},
   "outputs": [],
   "source": [
    "def linear_probing(items, hash_):\n",
    "    base = len(hash_)\n",
    "    for i in items:\n",
    "        key = i % base\n",
    "        for _ in range(base):\n",
    "            if hash_[key] < 0:\n",
    "                hash_[key] = i\n",
    "                break\n",
    "            else:\n",
    "                key = (key + 1) % base"
   ]
  },
  {
   "cell_type": "code",
   "execution_count": 78,
   "metadata": {},
   "outputs": [],
   "source": [
    "items = [113 , 117 , 97 , 100 , 114 , 108 , 116 , 105 , 99]\n",
    "hash_ = [-1] * 11"
   ]
  },
  {
   "cell_type": "code",
   "execution_count": 79,
   "metadata": {},
   "outputs": [],
   "source": [
    "linear_probing(items, hash_)"
   ]
  },
  {
   "cell_type": "code",
   "execution_count": 80,
   "metadata": {},
   "outputs": [
    {
     "data": {
      "text/plain": [
       "[99, 100, -1, 113, 114, -1, 116, 117, 105, 97, 108]"
      ]
     },
     "execution_count": 80,
     "metadata": {},
     "output_type": "execute_result"
    }
   ],
   "source": [
    "hash_"
   ]
  },
  {
   "cell_type": "code",
   "execution_count": 76,
   "metadata": {},
   "outputs": [
    {
     "data": {
      "text/plain": [
       "[99, 100, -1, 113, 114, -1, 116, 117, 105, 97, 108]"
      ]
     },
     "execution_count": 76,
     "metadata": {},
     "output_type": "execute_result"
    }
   ],
   "source": [
    "hash_"
   ]
  },
  {
   "cell_type": "markdown",
   "metadata": {},
   "source": [
    "# Map class"
   ]
  },
  {
   "cell_type": "code",
   "execution_count": 63,
   "metadata": {},
   "outputs": [],
   "source": [
    "class HashTable:\n",
    "    def __init__(self, size=11):\n",
    "        self.size = size\n",
    "        self.slots = [None] * size\n",
    "        self.data = [None] * size\n",
    "        \n",
    "    def put(self, key, value):\n",
    "        hash_value = self.hash_func(key)\n",
    "        \n",
    "        while (self.slots[hash_value] is not None) and \\\n",
    "                  (self.slots[hash_value] != key):\n",
    "            hash_value = self.rehash(hash_value)\n",
    "        \n",
    "        self.slots[hash_value] = key\n",
    "        self.data[hash_value] = value\n",
    "                \n",
    "    def hash_func(self, key):\n",
    "        return key % self.size\n",
    "    \n",
    "    def rehash(self, key):\n",
    "        return (key + 1) % self.size\n",
    "    \n",
    "    def get(self, key):\n",
    "        start_slot = self.hash_func(key)\n",
    "        \n",
    "        value = None\n",
    "        position = start_slot\n",
    "        \n",
    "        while self.slots[position] is not None:\n",
    "            if self.slots[position] == key:\n",
    "                value = self.data[position]\n",
    "                break\n",
    "            else:\n",
    "                position = self.rehash(position)\n",
    "                if position == start_slot:\n",
    "                    break\n",
    "                    \n",
    "        return value\n",
    "    \n",
    "    def __getitem__(self, key):\n",
    "        return self.get(key)\n",
    "    \n",
    "    def __setitem__(self, key, value):\n",
    "        self.put(key, value)"
   ]
  },
  {
   "cell_type": "code",
   "execution_count": 64,
   "metadata": {},
   "outputs": [],
   "source": [
    "h = HashTable()\n",
    "h[54] = 'cat'\n",
    "h[26] = 'dog'\n",
    "h[93] = 'lion'\n",
    "h[17] = 'tiger'\n",
    "h[77] = 'bird'\n",
    "h[31] = 'cow'\n",
    "h[44] = 'goat'\n",
    "h[55] = 'pig'\n",
    "h[20] = 'chicken'"
   ]
  },
  {
   "cell_type": "code",
   "execution_count": 65,
   "metadata": {},
   "outputs": [
    {
     "data": {
      "text/plain": [
       "[77, 44, 55, 20, 26, 93, 17, None, None, 31, 54]"
      ]
     },
     "execution_count": 65,
     "metadata": {},
     "output_type": "execute_result"
    }
   ],
   "source": [
    "h.slots"
   ]
  },
  {
   "cell_type": "code",
   "execution_count": 66,
   "metadata": {},
   "outputs": [
    {
     "data": {
      "text/plain": [
       "['bird',\n",
       " 'goat',\n",
       " 'pig',\n",
       " 'chicken',\n",
       " 'dog',\n",
       " 'lion',\n",
       " 'tiger',\n",
       " None,\n",
       " None,\n",
       " 'cow',\n",
       " 'cat']"
      ]
     },
     "execution_count": 66,
     "metadata": {},
     "output_type": "execute_result"
    }
   ],
   "source": [
    "h.data"
   ]
  },
  {
   "cell_type": "code",
   "execution_count": 68,
   "metadata": {},
   "outputs": [
    {
     "data": {
      "text/plain": [
       "'bird'"
      ]
     },
     "execution_count": 68,
     "metadata": {},
     "output_type": "execute_result"
    }
   ],
   "source": [
    "h[77]"
   ]
  },
  {
   "cell_type": "code",
   "execution_count": null,
   "metadata": {},
   "outputs": [],
   "source": []
  },
  {
   "cell_type": "code",
   "execution_count": null,
   "metadata": {},
   "outputs": [],
   "source": []
  }
 ],
 "metadata": {
  "kernelspec": {
   "display_name": "Python 3",
   "language": "python",
   "name": "python3"
  },
  "language_info": {
   "codemirror_mode": {
    "name": "ipython",
    "version": 3
   },
   "file_extension": ".py",
   "mimetype": "text/x-python",
   "name": "python",
   "nbconvert_exporter": "python",
   "pygments_lexer": "ipython3",
   "version": "3.7.3"
  }
 },
 "nbformat": 4,
 "nbformat_minor": 2
}
