{
 "cells": [
  {
   "cell_type": "markdown",
   "metadata": {},
   "source": [
    "# 5.7. The Bubble Sort\n",
    "\n",
    "http://interactivepython.org/runestone/static/pythonds/SortSearch/TheBubbleSort.html"
   ]
  },
  {
   "cell_type": "code",
   "execution_count": 9,
   "metadata": {},
   "outputs": [],
   "source": [
    "def bubble_sort(alist):\n",
    "    for i in reversed(range(len(alist))):\n",
    "        for j in range(i):\n",
    "            if alist[j] > alist[j + 1]:\n",
    "                alist[j], alist[j + 1] = alist[j + 1], alist[j]\n",
    "                \n",
    "    return alist"
   ]
  },
  {
   "cell_type": "code",
   "execution_count": 10,
   "metadata": {},
   "outputs": [
    {
     "data": {
      "text/plain": [
       "[17, 20, 26, 31, 44, 54, 55, 77, 93]"
      ]
     },
     "execution_count": 10,
     "metadata": {},
     "output_type": "execute_result"
    }
   ],
   "source": [
    "bubble_sort([54, 26, 93, 17, 77, 31, 44, 55, 20])"
   ]
  },
  {
   "cell_type": "code",
   "execution_count": 23,
   "metadata": {},
   "outputs": [],
   "source": [
    "def short_bubble_sort(alist):\n",
    "    exchange = True\n",
    "    pos = len(alist) - 1\n",
    "    while pos > 0 and exchange:\n",
    "        exchange = False\n",
    "        for i in range(pos):\n",
    "            if alist[i] > alist[i + 1]:\n",
    "                alist[i], alist[i + 1] = alist[i + 1], alist[i]\n",
    "                exchange = True\n",
    "        pos -= 1\n",
    "        \n",
    "    return alist"
   ]
  },
  {
   "cell_type": "code",
   "execution_count": 24,
   "metadata": {},
   "outputs": [
    {
     "data": {
      "text/plain": [
       "[17, 20, 26, 31, 44, 54, 55, 77, 93]"
      ]
     },
     "execution_count": 24,
     "metadata": {},
     "output_type": "execute_result"
    }
   ],
   "source": [
    "short_bubble_sort([54, 26, 93, 17, 77, 31, 44, 55, 20])"
   ]
  },
  {
   "cell_type": "code",
   "execution_count": null,
   "metadata": {},
   "outputs": [],
   "source": []
  },
  {
   "cell_type": "code",
   "execution_count": null,
   "metadata": {},
   "outputs": [],
   "source": []
  }
 ],
 "metadata": {
  "kernelspec": {
   "display_name": "Python 3",
   "language": "python",
   "name": "python3"
  },
  "language_info": {
   "codemirror_mode": {
    "name": "ipython",
    "version": 3
   },
   "file_extension": ".py",
   "mimetype": "text/x-python",
   "name": "python",
   "nbconvert_exporter": "python",
   "pygments_lexer": "ipython3",
   "version": "3.7.3"
  }
 },
 "nbformat": 4,
 "nbformat_minor": 2
}
