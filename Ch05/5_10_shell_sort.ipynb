{
 "cells": [
  {
   "cell_type": "markdown",
   "metadata": {},
   "source": [
    "# 5.10. The Shell Sort\n",
    "\n",
    "http://interactivepython.org/runestone/static/pythonds/SortSearch/TheShellSort.html"
   ]
  },
  {
   "cell_type": "code",
   "execution_count": 1,
   "metadata": {},
   "outputs": [],
   "source": [
    "def shell_sort(alist):\n",
    "    gap = len(alist) // 2\n",
    "    while gap > 0:\n",
    "        for start_pos in range(gap):\n",
    "            print(f'Gap: {gap}, list: {alist}')\n",
    "            gap_insertion_sort(alist, start_pos, gap)\n",
    "            \n",
    "        gap //= 2"
   ]
  },
  {
   "cell_type": "code",
   "execution_count": 2,
   "metadata": {},
   "outputs": [],
   "source": [
    "def gap_insertion_sort(alist, start, gap):\n",
    "    for i in range(start + gap, len(alist), gap):\n",
    "        value = alist[i]\n",
    "        pos = i\n",
    "        \n",
    "        while pos >= gap and alist[pos - gap] > value:\n",
    "            alist[pos] = alist[pos - gap]\n",
    "            pos -= gap\n",
    "            \n",
    "        alist[pos] = value"
   ]
  },
  {
   "cell_type": "code",
   "execution_count": 3,
   "metadata": {},
   "outputs": [
    {
     "name": "stdout",
     "output_type": "stream",
     "text": [
      "Gap: 4, list: [54, 26, 93, 17, 77, 31, 44, 55, 20]\n",
      "Gap: 4, list: [20, 26, 93, 17, 54, 31, 44, 55, 77]\n",
      "Gap: 4, list: [20, 26, 93, 17, 54, 31, 44, 55, 77]\n",
      "Gap: 4, list: [20, 26, 44, 17, 54, 31, 93, 55, 77]\n",
      "Gap: 2, list: [20, 26, 44, 17, 54, 31, 93, 55, 77]\n",
      "Gap: 2, list: [20, 26, 44, 17, 54, 31, 77, 55, 93]\n",
      "Gap: 1, list: [20, 17, 44, 26, 54, 31, 77, 55, 93]\n"
     ]
    },
    {
     "data": {
      "text/plain": [
       "[17, 20, 26, 31, 44, 54, 55, 77, 93]"
      ]
     },
     "execution_count": 3,
     "metadata": {},
     "output_type": "execute_result"
    }
   ],
   "source": [
    "list_ = [54, 26, 93, 17, 77, 31, 44, 55, 20]\n",
    "shell_sort(list_)\n",
    "list_"
   ]
  },
  {
   "cell_type": "code",
   "execution_count": null,
   "metadata": {},
   "outputs": [],
   "source": []
  },
  {
   "cell_type": "code",
   "execution_count": null,
   "metadata": {},
   "outputs": [],
   "source": []
  },
  {
   "cell_type": "code",
   "execution_count": null,
   "metadata": {},
   "outputs": [],
   "source": []
  }
 ],
 "metadata": {
  "kernelspec": {
   "display_name": "Python 3",
   "language": "python",
   "name": "python3"
  },
  "language_info": {
   "codemirror_mode": {
    "name": "ipython",
    "version": 3
   },
   "file_extension": ".py",
   "mimetype": "text/x-python",
   "name": "python",
   "nbconvert_exporter": "python",
   "pygments_lexer": "ipython3",
   "version": "3.7.3"
  }
 },
 "nbformat": 4,
 "nbformat_minor": 2
}
