{
 "cells": [
  {
   "cell_type": "markdown",
   "metadata": {},
   "source": [
    "# 3.14. Simulation: Printing Tasks\n",
    "\n",
    "http://interactivepython.org/runestone/static/pythonds/BasicDS/SimulationPrintingTasks.html"
   ]
  },
  {
   "cell_type": "code",
   "execution_count": 2,
   "metadata": {},
   "outputs": [],
   "source": [
    "import random"
   ]
  },
  {
   "cell_type": "code",
   "execution_count": 4,
   "metadata": {},
   "outputs": [],
   "source": [
    "class Queue:\n",
    "    def __init__(self):\n",
    "        self.items = []\n",
    "        \n",
    "    def is_empty(self):\n",
    "        return len(self.items) == 0\n",
    "    \n",
    "    def enqueue(self, item):\n",
    "        self.items.insert(0, item)\n",
    "        \n",
    "    def dequeue(self):\n",
    "        return self.items.pop()\n",
    "    \n",
    "    def size(self):\n",
    "        return len(self.items)"
   ]
  },
  {
   "cell_type": "code",
   "execution_count": 1,
   "metadata": {},
   "outputs": [],
   "source": [
    "class Printer:\n",
    "    def __init__(self, ppm):\n",
    "        self.pagerate = ppm\n",
    "        self.current_task = None\n",
    "        self.time_remaining = 0\n",
    "        \n",
    "    def tick(self):\n",
    "        if self.current_task is not None:\n",
    "            self.time_remaining -= 1\n",
    "            if self.time_remaining <= 0:\n",
    "                self.current_task = None\n",
    "                \n",
    "    def busy(self):\n",
    "        return self.current_task is not None\n",
    "        \n",
    "    def start_next(self, new_task):\n",
    "        self.current_task = new_task\n",
    "        self.time_remaining = new_task.get_pages() * 60 / self.pagerate"
   ]
  },
  {
   "cell_type": "code",
   "execution_count": 3,
   "metadata": {},
   "outputs": [],
   "source": [
    "class Task:\n",
    "    def __init__(self, time):\n",
    "        self.timestamp = time\n",
    "        self.pages = random.randrange(1, 21)\n",
    "    \n",
    "    def get_stamp(self):\n",
    "        return self.timestamp\n",
    "    \n",
    "    def get_pages(self):\n",
    "        return self.pages\n",
    "    \n",
    "    def wait_time(self, current_time):\n",
    "        return current_time - self.timestamp"
   ]
  },
  {
   "cell_type": "code",
   "execution_count": 8,
   "metadata": {},
   "outputs": [],
   "source": [
    "def simulation(num_seconds, pages_per_minute):\n",
    "    printer = Printer(pages_per_minute)\n",
    "    q = Queue()\n",
    "    waiting_times = []\n",
    "    \n",
    "    for current_second in range(num_seconds):\n",
    "        if new_print_task():\n",
    "            task = Task(current_second)\n",
    "            q.enqueue(task)\n",
    "            \n",
    "        if (not printer.busy()) and (not q.is_empty()):\n",
    "            next_task = q.dequeue()\n",
    "            waiting_times.append(next_task.wait_time(current_second))\n",
    "            printer.start_next(next_task)\n",
    "            \n",
    "        printer.tick()\n",
    "        \n",
    "    average_wait = sum(waiting_times) / len(waiting_times)\n",
    "    print('Average Wait {:6.2f} secs {:3d} tasks remaining'.format(\n",
    "        average_wait, q.size()))\n",
    "        \n",
    "        \n",
    "def new_print_task():\n",
    "    return random.randrange(1, 181) == 180"
   ]
  },
  {
   "cell_type": "code",
   "execution_count": 9,
   "metadata": {},
   "outputs": [
    {
     "name": "stdout",
     "output_type": "stream",
     "text": [
      "Average Wait 311.32 secs   0 tasks remaining\n",
      "Average Wait 196.90 secs   0 tasks remaining\n",
      "Average Wait 129.61 secs   1 tasks remaining\n",
      "Average Wait  54.00 secs   0 tasks remaining\n",
      "Average Wait  49.90 secs   0 tasks remaining\n",
      "Average Wait  53.75 secs   1 tasks remaining\n",
      "Average Wait 346.48 secs   9 tasks remaining\n",
      "Average Wait 258.19 secs   5 tasks remaining\n",
      "Average Wait 142.32 secs   1 tasks remaining\n",
      "Average Wait  86.35 secs   0 tasks remaining\n"
     ]
    }
   ],
   "source": [
    "for _ in range(10):\n",
    "    simulation(3600, 5)"
   ]
  },
  {
   "cell_type": "code",
   "execution_count": null,
   "metadata": {},
   "outputs": [],
   "source": []
  }
 ],
 "metadata": {
  "kernelspec": {
   "display_name": "Python 3",
   "language": "python",
   "name": "python3"
  },
  "language_info": {
   "codemirror_mode": {
    "name": "ipython",
    "version": 3
   },
   "file_extension": ".py",
   "mimetype": "text/x-python",
   "name": "python",
   "nbconvert_exporter": "python",
   "pygments_lexer": "ipython3",
   "version": "3.7.3"
  }
 },
 "nbformat": 4,
 "nbformat_minor": 2
}
