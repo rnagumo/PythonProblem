{
 "cells": [
  {
   "cell_type": "markdown",
   "metadata": {},
   "source": [
    "# 4.10. Tower of Hanoi\n",
    "\n",
    "http://interactivepython.org/runestone/static/pythonds/Recursion/TowerofHanoi.html"
   ]
  },
  {
   "cell_type": "code",
   "execution_count": 1,
   "metadata": {},
   "outputs": [],
   "source": [
    "def move_tower(height, from_, to_, with_):\n",
    "    if height >= 1:\n",
    "        move_tower(height - 1, from_, with_, to_)\n",
    "        move_disk(from_, to_)\n",
    "        move_tower(height - 1, with_, to_, from_)"
   ]
  },
  {
   "cell_type": "code",
   "execution_count": 2,
   "metadata": {},
   "outputs": [],
   "source": [
    "def move_disk(fp, tp):\n",
    "    print(f'Moving disk from {fp} to {tp}')"
   ]
  },
  {
   "cell_type": "code",
   "execution_count": 4,
   "metadata": {},
   "outputs": [
    {
     "name": "stdout",
     "output_type": "stream",
     "text": [
      "Moving disk from a to c\n",
      "Moving disk from a to b\n",
      "Moving disk from c to b\n",
      "Moving disk from a to c\n",
      "Moving disk from b to a\n",
      "Moving disk from b to c\n",
      "Moving disk from a to c\n",
      "Moving disk from a to b\n",
      "Moving disk from c to b\n",
      "Moving disk from c to a\n",
      "Moving disk from b to a\n",
      "Moving disk from c to b\n",
      "Moving disk from a to c\n",
      "Moving disk from a to b\n",
      "Moving disk from c to b\n"
     ]
    }
   ],
   "source": [
    "move_tower(4, 'a', 'b', 'c')"
   ]
  },
  {
   "cell_type": "code",
   "execution_count": null,
   "metadata": {},
   "outputs": [],
   "source": []
  },
  {
   "cell_type": "code",
   "execution_count": null,
   "metadata": {},
   "outputs": [],
   "source": []
  },
  {
   "cell_type": "code",
   "execution_count": null,
   "metadata": {},
   "outputs": [],
   "source": []
  }
 ],
 "metadata": {
  "kernelspec": {
   "display_name": "Python 3",
   "language": "python",
   "name": "python3"
  },
  "language_info": {
   "codemirror_mode": {
    "name": "ipython",
    "version": 3
   },
   "file_extension": ".py",
   "mimetype": "text/x-python",
   "name": "python",
   "nbconvert_exporter": "python",
   "pygments_lexer": "ipython3",
   "version": "3.7.3"
  }
 },
 "nbformat": 4,
 "nbformat_minor": 2
}
